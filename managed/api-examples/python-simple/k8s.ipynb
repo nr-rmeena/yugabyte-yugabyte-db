{
 "cells": [
  {
   "cell_type": "markdown",
   "id": "559d2cd0-3423-4857-a327-8492add154ce",
   "metadata": {},
   "source": [
    "# K8s Provider and Universe"
   ]
  },
  {
   "cell_type": "markdown",
   "id": "86877d88-9293-45ad-8b5b-eae65bc5eed0",
   "metadata": {},
   "source": [
    "### Setup\n",
    "\n",
    "First, import the required packages.\n",
    "\n",
    "Next, specify some important variables:\n",
    "* `platform_address`: The address of the Yugabyte Platform API\n",
    "* `platform_api_key`: The API key used to authenticate with the Platform API\n",
    "\n",
    "Finally, open a HTTP connection to the Yugabyte Platform API."
   ]
  },
  {
   "cell_type": "code",
   "execution_count": 44,
   "id": "4bf637a2-2d8c-4f60-858c-0ef6e7d75153",
   "metadata": {
    "tags": []
   },
   "outputs": [],
   "source": [
    "import os\n",
    "import http.client\n",
    "import json\n",
    "from pprint import pprint\n",
    "\n",
    "platform_address = os.getenv('API_BASE_URL')\n",
    "platform_api_key = os.getenv('YB_API_KEY')\n",
    "\n",
    "conn = http.client.HTTPConnection(f\"{platform_address}\")\n",
    "\n",
    "headers = {\n",
    "  'Content-Type': \"application/json\",\n",
    "  'X-AUTH-YW-API-TOKEN': f\"{platform_api_key}\"\n",
    "}\n"
   ]
  },
  {
   "cell_type": "markdown",
   "id": "549f0867-e7d7-4c54-be40-bdaae032e4c8",
   "metadata": {
    "tags": []
   },
   "source": [
    "### Get Session Info\n",
    "\n",
    "Make an API call to session endpoint to determine customer UUID."
   ]
  },
  {
   "cell_type": "code",
   "execution_count": 41,
   "id": "04f98bf2-8057-40d4-8dfb-0983a86e96c5",
   "metadata": {},
   "outputs": [
    {
     "name": "stdout",
     "output_type": "stream",
     "text": [
      "Customer UUID:\n",
      "22c55e88-813e-4f4e-9b44-c1f99e6bc798\n"
     ]
    }
   ],
   "source": [
    "conn.request(\"GET\", \"/api/v1/session_info\", headers=headers)\n",
    "\n",
    "res = conn.getresponse()\n",
    "data = res.read()\n",
    "session_info = json.loads(data)\n",
    "customer_uuid = session_info['customerUUID']\n",
    "\n",
    "print('Customer UUID:\\n%s' % customer_uuid)"
   ]
  },
  {
   "cell_type": "markdown",
   "id": "f86da112-6c87-4f46-aa10-f960695f60da",
   "metadata": {},
   "source": [
    "### Get Provider UUID By Name\n",
    "\n",
    "Make an API call to the provider endpoint to determine provider UUID and regions."
   ]
  },
  {
   "cell_type": "code",
   "execution_count": 42,
   "id": "a581e58f-66ba-4740-915d-475a463bb4cc",
   "metadata": {},
   "outputs": [
    {
     "name": "stdout",
     "output_type": "stream",
     "text": [
      "Provider UUID:\n",
      "1f65440b-9cb3-482b-9f1c-c076f6e62f81\n",
      "Regions:\n",
      "[f47d55a9-74bd-4b80-97d3-ca3cecbe07fc]\n"
     ]
    }
   ],
   "source": [
    "provider_name = 'gke-multi-zone' # my-gcp-rovider \n",
    "url = f\"/api/v1/customers/{customer_uuid}/providers\"\n",
    "conn.request(\"GET\", url, headers=headers)\n",
    "res = conn.getresponse()\n",
    "\n",
    "provider_list = json.load(res)\n",
    "for provider in provider_list:\n",
    "    if provider['name'] == provider_name and provider['active'] == True:\n",
    "        provider_uuid = provider['uuid']\n",
    "        region_list = [region['uuid'] for region in provider['regions']]\n",
    "        break\n",
    "\n",
    "print('Provider UUID:\\n%s' % provider_uuid)\n",
    "print('Regions:\\n[%s]' % ', '.join(region_list))"
   ]
  },
  {
   "cell_type": "markdown",
   "id": "2867718f-efc8-4658-9dbb-fcc4d6c453ad",
   "metadata": {
    "tags": []
   },
   "source": [
    "### Get Access Key\n",
    "\n",
    "Make an API call to the access key endpoint to determine access key for provider."
   ]
  },
  {
   "cell_type": "code",
   "execution_count": 43,
   "id": "58beca93-dbe0-40b9-97af-ab27df1f0bf7",
   "metadata": {
    "tags": []
   },
   "outputs": [
    {
     "name": "stdout",
     "output_type": "stream",
     "text": [
      "Access Key:\n",
      "yugabyte-default\n"
     ]
    }
   ],
   "source": [
    "url = f\"/api/v1/customers/{customer_uuid}/providers/{provider_uuid}/access_keys\"\n",
    "conn.request(\"GET\", url, headers=headers)\n",
    "res = conn.getresponse()\n",
    "\n",
    "access_key_list = json.load(res)\n",
    "access_key_code = access_key_list[0]['idKey']['keyCode'] if access_key_list else \"yugabyte-default\"\n",
    "print('Access Key:\\n%s' % access_key_code)"
   ]
  },
  {
   "cell_type": "markdown",
   "id": "0ecfe2b4-da67-42ca-81d9-26c8e57db923",
   "metadata": {
    "tags": []
   },
   "source": [
    "### Get Instance Types Available\n",
    "\n",
    "Make an API call to see the instance types available for the provider."
   ]
  },
  {
   "cell_type": "code",
   "execution_count": 27,
   "id": "ca1e3146-5491-4e23-9ea4-be7dedae8313",
   "metadata": {},
   "outputs": [
    {
     "name": "stdout",
     "output_type": "stream",
     "text": [
      "small\n",
      "xsmall\n",
      "large\n",
      "^^^^^^^ Found !!!!!!!!!!!\n",
      "{'volumeDetailsList': [{'mountPath': '/mnt/d0',\n",
      "                        'volumeSizeGB': 100,\n",
      "                        'volumeType': 'SSD'}]}\n"
     ]
    }
   ],
   "source": [
    "url = f\"/api/v1/customers/{customer_uuid}/providers/{provider_uuid}/instance_types\"\n",
    "conn.request(\"GET\", url, headers=headers)\n",
    "res = conn.getresponse()\n",
    "\n",
    "instance_type = None\n",
    "for i in json.load(res):\n",
    "    print(i['instanceTypeCode'])\n",
    "    if i['instanceTypeCode'] in ['large']: # desired aws or gcp type code\n",
    "        print('^^^^^^^ Found !!!!!!!!!!!')\n",
    "        instance_type = i\n",
    "        break\n",
    "\n",
    "pprint(instance_type['instanceTypeDetails'])"
   ]
  },
  {
   "cell_type": "code",
   "execution_count": 28,
   "id": "0b39890c-de0d-4dcf-8807-0151557954ba",
   "metadata": {},
   "outputs": [],
   "source": [
    "new_universe = {\n",
    "    'clusters': [\n",
    "        {\n",
    "            'clusterType': 'PRIMARY',\n",
    "            'userIntent': {\n",
    "                'universeName': 'my-k8s-universe', # or my-gcp-universe\n",
    "                'providerType': 'kubernetes',\n",
    "                'provider': provider_uuid,\n",
    "                'regionList': region_list,\n",
    "                'numNodes': 3,\n",
    "                'replicationFactor': 3,\n",
    "                'instanceType': instance_type['instanceTypeCode'],\n",
    "                'deviceInfo': {\n",
    "                    'numVolumes': 1,\n",
    "                    'volumeSize': instance_type['instanceTypeDetails']['volumeDetailsList'][0]['volumeSizeGB'],\n",
    "                    'storageClass': \"standard\"\n",
    "                },\n",
    "                'assignPublicIP': True,\n",
    "                'useTimeSync': True,\n",
    "                'enableYSQL': True,\n",
    "                'enableYEDIS': False,\n",
    "                'enableNodeToNodeEncrypt': True,\n",
    "                'enableClientToNodeEncrypt': True,\n",
    "                'enableVolumeEncryption': False,\n",
    "                'ybSoftwareVersion': '2.7.3.0-b80',\n",
    "                'accessKeyCode': access_key_code,\n",
    "                'tserverGFlags': {},\n",
    "                'masterGFlags': {},\n",
    "            }\n",
    "        },\n",
    "    ],\n",
    "}"
   ]
  },
  {
   "cell_type": "markdown",
   "id": "37e74b0b-4b7b-4d9b-8aad-9e379082febf",
   "metadata": {},
   "source": [
    "### Create Universe\n",
    "\n",
    "Make API call to create new universe."
   ]
  },
  {
   "cell_type": "code",
   "execution_count": 29,
   "id": "1615bfbf-a087-4d0a-a28b-3213e1c482d9",
   "metadata": {
    "tags": []
   },
   "outputs": [
    {
     "name": "stdout",
     "output_type": "stream",
     "text": [
      "{'resourceUUID': 'b94885cc-75a9-4a54-893c-9db844e27252',\n",
      " 'taskUUID': '8de55be2-69bf-4813-b656-f10322adf8d1'}\n"
     ]
    }
   ],
   "source": [
    "url = f\"/api/v1/customers/{customer_uuid}/universes/clusters\"\n",
    "conn.request(\"POST\", url, json.dumps(new_universe), headers)\n",
    "res = conn.getresponse()\n",
    "pprint(json.load(res))"
   ]
  }
 ],
 "metadata": {
  "kernelspec": {
   "display_name": "Python 3 (ipykernel)",
   "language": "python",
   "name": "python3"
  },
  "language_info": {
   "codemirror_mode": {
    "name": "ipython",
    "version": 3
   },
   "file_extension": ".py",
   "mimetype": "text/x-python",
   "name": "python",
   "nbconvert_exporter": "python",
   "pygments_lexer": "ipython3",
   "version": "3.8.5"
  }
 },
 "nbformat": 4,
 "nbformat_minor": 5
}
