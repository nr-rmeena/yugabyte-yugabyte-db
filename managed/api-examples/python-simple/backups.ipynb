{
 "cells": [
  {
   "cell_type": "markdown",
   "metadata": {},
   "source": [
    "# Backups\n",
    "# Get session Info\n",
    "- Using API key make a request get ascociated `session_info` \n",
    "- `session_info` contains current user and current customer uuid."
   ]
  },
  {
   "cell_type": "code",
   "execution_count": 5,
   "metadata": {},
   "outputs": [
    {
     "name": "stdout",
     "output_type": "stream",
     "text": [
      "{'apiToken': '2c76dd83-baeb-460c-b7ef-cb5ba516ed37',\n",
      " 'customerUUID': '11d78d93-1381-4d1d-8393-ba76f47ba7a6',\n",
      " 'userUUID': '52bce00c-dd1b-dcd7-0821-b8070a7173c5'}\n"
     ]
    }
   ],
   "source": [
    "import http.client\n",
    "import json\n",
    "import os\n",
    "from pprint import pprint\n",
    "\n",
    "platform_address = os.getenv('API_BASE_URL')\n",
    "platform_api_key = os.getenv('YB_API_KEY')\n",
    "\n",
    "conn = http.client.HTTPConnection(f\"{platform_address}\")\n",
    "\n",
    "headers = {\n",
    "  'Content-Type': \"application/json\",\n",
    "  'X-AUTH-YW-API-TOKEN': f\"{platform_api_key}\"\n",
    "}\n",
    "\n",
    "conn.request(\"GET\", \"/api/v1/session_info\", headers=headers)\n",
    "\n",
    "res = conn.getresponse()\n",
    "data = res.read()\n",
    "session_info = json.loads(data)\n",
    "pprint(session_info)"
   ]
  },
  {
   "cell_type": "markdown",
   "metadata": {},
   "source": [
    "#### Storage Configuration Parameter\n",
    "- Now pick a storage config you want to use to store the backups.\n",
    "See `./list-customer-config.ipynb` for how to list all configs"
   ]
  },
  {
   "cell_type": "code",
   "execution_count": 6,
   "metadata": {},
   "outputs": [],
   "source": [
    "storage_config_uuid = os.getenv('STORAGE_CONF_UUID',\n",
    "                                \"f5cfe9fb-cd4f-46e7-8ed8-af285b730cc0\")"
   ]
  },
  {
   "cell_type": "markdown",
   "metadata": {},
   "source": [
    "#### Universe UUID Parameter\n",
    "uuid of universe to be backed up. See `list-universes.ipynb` for how to"
   ]
  },
  {
   "cell_type": "code",
   "execution_count": 7,
   "metadata": {},
   "outputs": [],
   "source": [
    "universe_uuid = os.getenv('UNIVERSE_UUID',\n",
    "                          \"5e16b61c-13d8-4141-8d5d-edbd52a3489e\")"
   ]
  },
  {
   "cell_type": "markdown",
   "metadata": {},
   "source": [
    "### Create Scheduled Whole Universe Backup\n",
    "- schedule frequency (i.e. take backup every) 1 day (86400000 ms) \n",
    "- delete (garbage collect) backup after 10 days (864000000 ms)"
   ]
  },
  {
   "cell_type": "code",
   "execution_count": null,
   "metadata": {},
   "outputs": [],
   "source": [
    "\n",
    "payload = ('{\\n'\n",
    "           '  \"actionType\": \"CREATE\",\\n'\n",
    "           '  \"keyspace\": \"postgres\",\\n'\n",
    "           f'  \"storageConfigUUID\": \"{storage_config_uuid}\",\\n'\n",
    "           '  \"timeBeforeDelete\": \"864000000\",\\n'\n",
    "           '  \"sse\": \"false\",\\n'\n",
    "           '  \"transactionalBackup\": \"false\",\\n'\n",
    "           '  \"parallelism\": \"8\",\\n'\n",
    "           '  \"schedulingFrequency\": \"86400000\",\\n'\n",
    "           '  \"backupType\": \"PGSQL_TABLE_TYPE\"\\n'\n",
    "           '}')\n",
    "\n",
    "url = f\"/api/v1/customers/{session_info.get('customerUUID')}\" \\\n",
    "      f\"/universes/{universe_uuid}/multi_table_backup\"\n",
    "conn.request(\"PUT\", url, payload, headers)\n",
    "\n",
    "res = conn.getresponse()\n",
    "schedule_info = json.load(res)\n",
    "pprint(schedule_info)"
   ]
  },
  {
   "cell_type": "markdown",
   "metadata": {},
   "source": [
    "### Delete backup Schedule"
   ]
  },
  {
   "cell_type": "code",
   "execution_count": null,
   "metadata": {
    "scrolled": true
   },
   "outputs": [],
   "source": [
    "url = f\"/api/v1/customers/{session_info.get('customerUUID')}\" \\\n",
    "      f\"/schedules/{schedule_info.get(\"scheduleUUID\")}\"\n",
    "conn.request(\"DELETE\", url, headers=headers)"
   ]
  }
 ],
 "metadata": {
  "kernelspec": {
   "display_name": "Python 3",
   "language": "python",
   "name": "python3"
  },
  "language_info": {
   "codemirror_mode": {
    "name": "ipython",
    "version": 3
   },
   "file_extension": ".py",
   "mimetype": "text/x-python",
   "name": "python",
   "nbconvert_exporter": "python",
   "pygments_lexer": "ipython3",
   "version": "3.8.5"
  }
 },
 "nbformat": 4,
 "nbformat_minor": 4
}
