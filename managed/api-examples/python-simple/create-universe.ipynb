{
 "cells": [
  {
   "cell_type": "markdown",
   "metadata": {},
   "source": [
    "### Setup\n",
    "\n",
    "First, import the required packages.\n",
    "\n",
    "Next, specify some important variables:\n",
    "* `platform_address`: The address of the Yugabyte Platform API\n",
    "* `platform_api_key`: The API key used to authenticate with the Platform API\n",
    "\n",
    "Finally, open a HTTP connection to the Yugabyte Platform API."
   ]
  },
  {
   "cell_type": "code",
   "execution_count": 13,
   "metadata": {},
   "outputs": [],
   "source": [
    "import os\n",
    "import http.client\n",
    "import json\n",
    "from pprint import pprint\n",
    "\n",
    "platform_address = os.getenv('API_BASE_URL', \"portal.dev.yugabyte.com\")\n",
    "platform_api_key = os.getenv('YB_API_KEY')\n",
    "\n",
    "conn = http.client.HTTPConnection(f\"{platform_address}\")\n",
    "\n",
    "headers = {\n",
    "  'Content-Type': \"application/json\",\n",
    "  'X-AUTH-YW-API-TOKEN': f\"{platform_api_key}\"\n",
    "}"
   ]
  },
  {
   "cell_type": "markdown",
   "metadata": {},
   "source": [
    "### Get Session Info\n",
    "\n",
    "Make an API call to session endpoint to determine customer UUID."
   ]
  },
  {
   "cell_type": "code",
   "execution_count": 14,
   "metadata": {},
   "outputs": [
    {
     "name": "stdout",
     "output_type": "stream",
     "text": [
      "Customer UUID:\n",
      "11d78d93-1381-4d1d-8393-ba76f47ba7a6\n"
     ]
    }
   ],
   "source": [
    "conn.request(\"GET\", \"/api/v1/session_info\", headers=headers)\n",
    "\n",
    "res = conn.getresponse()\n",
    "data = res.read()\n",
    "session_info = json.loads(data)\n",
    "customer_uuid = session_info['customerUUID']\n",
    "\n",
    "print('Customer UUID:\\n%s' % customer_uuid)"
   ]
  },
  {
   "cell_type": "markdown",
   "metadata": {},
   "source": [
    "### Get Provider UUID\n",
    "\n",
    "Make an API call to the provider endpoint to determine provider UUID and regions."
   ]
  },
  {
   "cell_type": "code",
   "execution_count": 16,
   "metadata": {},
   "outputs": [
    {
     "name": "stdout",
     "output_type": "stream",
     "text": [
      "Provider UUID:\n",
      "109e95b5-bf08-4a8f-a7fb-2d2866865e15\n",
      "Regions:\n",
      "[65d5719a-a87b-43c7-be53-c87e467ecf46]\n"
     ]
    }
   ],
   "source": [
    "url = f\"/api/v1/customers/{customer_uuid}/providers\"\n",
    "conn.request(\"GET\", url, headers=headers)\n",
    "res = conn.getresponse()\n",
    "\n",
    "provider_list = json.load(res)\n",
    "for provider in provider_list:\n",
    "    if provider['code'] == 'gcp' and provider['active'] == True:\n",
    "        provider_uuid = provider['uuid']\n",
    "        region_list = [region['uuid'] for region in provider['regions']]\n",
    "        break\n",
    "\n",
    "print('Provider UUID:\\n%s' % provider_uuid)\n",
    "print('Regions:\\n[%s]' % ', '.join(region_list))"
   ]
  },
  {
   "cell_type": "markdown",
   "metadata": {},
   "source": [
    "### Get Access Key\n",
    "\n",
    "Make an API call to the access key endpoint to determine access key for provider."
   ]
  },
  {
   "cell_type": "code",
   "execution_count": 7,
   "metadata": {},
   "outputs": [
    {
     "name": "stdout",
     "output_type": "stream",
     "text": [
      "Access Key:\n",
      "yb-gcp-config-key\n"
     ]
    }
   ],
   "source": [
    "url = f\"/api/v1/customers/{customer_uuid}/providers/{provider_uuid}/access_keys\"\n",
    "conn.request(\"GET\", url, headers=headers)\n",
    "res = conn.getresponse()\n",
    "\n",
    "access_key_list = json.load(res)\n",
    "access_key_code = access_key_list[0]['idKey']['keyCode']\n",
    "print('Access Key:\\n%s' % access_key_code)"
   ]
  },
  {
   "cell_type": "markdown",
   "metadata": {},
   "source": [
    "### Define Universe\n",
    "\n",
    "In this example, we will create a GCP universe. Define a `Universe` object with the desired configuration."
   ]
  },
  {
   "cell_type": "code",
   "execution_count": 8,
   "metadata": {
    "tags": []
   },
   "outputs": [],
   "source": [
    "new_universe = {\n",
    "    'clusters': [\n",
    "        {\n",
    "            'clusterType': 'PRIMARY',\n",
    "            'userIntent': {\n",
    "                'universeName': 'my-gcp-universe',\n",
    "                'providerType': 'gcp',\n",
    "                'provider': provider_uuid,\n",
    "                'regionList': region_list,\n",
    "                'numNodes': 3,\n",
    "                'replicationFactor': 3,\n",
    "                'instanceType': 'n1-standard-1',\n",
    "                'deviceInfo': {\n",
    "                    'numVolumes': 1,\n",
    "                    'storageType': 'Persistent',\n",
    "                    'volumeSize': 375,\n",
    "                },\n",
    "                'assignPublicIP': True,\n",
    "                'useTimeSync': True,\n",
    "                'enableYSQL': True,\n",
    "                'enableYEDIS': False,\n",
    "                'enableNodeToNodeEncrypt': True,\n",
    "                'enableClientToNodeEncrypt': True,\n",
    "                'enableVolumeEncryption': False,\n",
    "                'ybSoftwareVersion': '2.7.3.0-b80',\n",
    "                'accessKeyCode': access_key_code,\n",
    "                'tserverGFlags': {},\n",
    "                'masterGFlags': {},\n",
    "            }\n",
    "        },\n",
    "    ],\n",
    "}"
   ]
  },
  {
   "cell_type": "markdown",
   "metadata": {},
   "source": [
    "### Create Universe\n",
    "\n",
    "Make API call to create new universe."
   ]
  },
  {
   "cell_type": "code",
   "execution_count": 9,
   "metadata": {},
   "outputs": [
    {
     "name": "stdout",
     "output_type": "stream",
     "text": [
      "{\n",
      "  \"taskUUID\": \"a3f597fa-dd48-42f6-a106-dd14c15343a2\",\n",
      "  \"resourceUUID\": \"303cf5ac-a6f5-492b-b68c-7d4d9633c4cc\"\n",
      "}\n"
     ]
    }
   ],
   "source": [
    "url = f\"/api/v1/customers/{customer_uuid}/universes/clusters\"\n",
    "conn.request(\"POST\", url, json.dumps(new_universe), headers)\n",
    "res = conn.getresponse()\n",
    "pprint(json.load(res))"
   ]
  }
 ],
 "metadata": {
  "interpreter": {
   "hash": "31f2aee4e71d21fbe5cf8b01ff0e069b9275f58929596ceb00d14d90e3e16cd6"
  },
  "kernelspec": {
   "display_name": "Python 3",
   "language": "python",
   "name": "python3"
  },
  "language_info": {
   "codemirror_mode": {
    "name": "ipython",
    "version": 3
   },
   "file_extension": ".py",
   "mimetype": "text/x-python",
   "name": "python",
   "nbconvert_exporter": "python",
   "pygments_lexer": "ipython3",
   "version": "3.8.5"
  }
 },
 "nbformat": 4,
 "nbformat_minor": 5
}
